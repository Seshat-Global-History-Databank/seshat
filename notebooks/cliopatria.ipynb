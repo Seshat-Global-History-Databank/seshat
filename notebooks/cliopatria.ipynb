{
 "cells": [
  {
   "cell_type": "markdown",
   "metadata": {},
   "source": [
    "# Cliopatria viewer\n",
    "\n",
    "1. Download and unzip the Cliopatria dataset.\n",
    "2. Update the Cliopatria GeoJSON file with colours and other properties required by Seshat:\n",
    "   ```\n",
    "      python cliopatria/convert_data.py /path/to/cliopatria.geojson\n",
    "   ```\n",
    "   Note: this will create a new file with the same name but with the suffix \"_seshat_processed.geojson\"\n",
    "3. Run the subsequent cells of this notebook\n",
    "4. Play around with both the GeoDataFrame (gdf) and the rendered map\n"
   ]
  },
  {
   "cell_type": "code",
   "execution_count": 1,
   "metadata": {},
   "outputs": [],
   "source": [
    "# Note: update this path to the location of the cliopatria data\n",
    "cliopatria_geojson_path = \"../data/cliopatria_07052024/cliopatria_composite_unique_simplified_seshat_processed.geojson\""
   ]
  },
  {
   "cell_type": "code",
   "execution_count": 2,
   "metadata": {},
   "outputs": [],
   "source": [
    "# Import necessary libraries\n",
    "from map_functions import display_map\n",
    "import geopandas as gpd"
   ]
  },
  {
   "cell_type": "code",
   "execution_count": 3,
   "metadata": {},
   "outputs": [
    {
     "data": {
      "text/html": [
       "<div>\n",
       "<style scoped>\n",
       "    .dataframe tbody tr th:only-of-type {\n",
       "        vertical-align: middle;\n",
       "    }\n",
       "\n",
       "    .dataframe tbody tr th {\n",
       "        vertical-align: top;\n",
       "    }\n",
       "\n",
       "    .dataframe thead th {\n",
       "        text-align: right;\n",
       "    }\n",
       "</style>\n",
       "<table border=\"1\" class=\"dataframe\">\n",
       "  <thead>\n",
       "    <tr style=\"text-align: right;\">\n",
       "      <th></th>\n",
       "      <th>Name</th>\n",
       "      <th>FromYear</th>\n",
       "      <th>ToYear</th>\n",
       "      <th>Area</th>\n",
       "      <th>Type</th>\n",
       "      <th>Wikipedia</th>\n",
       "      <th>SeshatID</th>\n",
       "      <th>MemberOf</th>\n",
       "      <th>Components</th>\n",
       "      <th>DisplayName</th>\n",
       "      <th>ColorKey</th>\n",
       "      <th>Color</th>\n",
       "      <th>PolityStartYear</th>\n",
       "      <th>PolityEndYear</th>\n",
       "      <th>geometry</th>\n",
       "    </tr>\n",
       "  </thead>\n",
       "  <tbody>\n",
       "    <tr>\n",
       "      <th>0</th>\n",
       "      <td>Sumerian City-States</td>\n",
       "      <td>-3400</td>\n",
       "      <td>-3201</td>\n",
       "      <td>22083.609657</td>\n",
       "      <td>POLITY</td>\n",
       "      <td>History of Sumer</td>\n",
       "      <td></td>\n",
       "      <td></td>\n",
       "      <td></td>\n",
       "      <td>Sumerian City-States</td>\n",
       "      <td>Sumerian City-States</td>\n",
       "      <td>#00ff00</td>\n",
       "      <td>-3400</td>\n",
       "      <td>-1761</td>\n",
       "      <td>POLYGON ((46.58681 31.27192, 46.43482 31.27192...</td>\n",
       "    </tr>\n",
       "    <tr>\n",
       "      <th>1</th>\n",
       "      <td>Sumerian City-States</td>\n",
       "      <td>-3200</td>\n",
       "      <td>-3001</td>\n",
       "      <td>35508.841506</td>\n",
       "      <td>POLITY</td>\n",
       "      <td>History of Sumer</td>\n",
       "      <td></td>\n",
       "      <td></td>\n",
       "      <td></td>\n",
       "      <td>Sumerian City-States</td>\n",
       "      <td>Sumerian City-States</td>\n",
       "      <td>#00ff00</td>\n",
       "      <td>-3400</td>\n",
       "      <td>-1761</td>\n",
       "      <td>POLYGON ((46.87564 31.14338, 46.55646 31.65753...</td>\n",
       "    </tr>\n",
       "    <tr>\n",
       "      <th>2</th>\n",
       "      <td>Elam</td>\n",
       "      <td>-3200</td>\n",
       "      <td>-2701</td>\n",
       "      <td>4919.440675</td>\n",
       "      <td>POLITY</td>\n",
       "      <td>Elam</td>\n",
       "      <td></td>\n",
       "      <td></td>\n",
       "      <td></td>\n",
       "      <td>Elam</td>\n",
       "      <td>Elam</td>\n",
       "      <td>#ff00ff</td>\n",
       "      <td>-3200</td>\n",
       "      <td>-601</td>\n",
       "      <td>POLYGON ((48.65172 32.55735, 48.34636 32.55735...</td>\n",
       "    </tr>\n",
       "    <tr>\n",
       "      <th>3</th>\n",
       "      <td>Sumerian City-States</td>\n",
       "      <td>-3000</td>\n",
       "      <td>-2701</td>\n",
       "      <td>45135.556672</td>\n",
       "      <td>POLITY</td>\n",
       "      <td>History of Sumer</td>\n",
       "      <td></td>\n",
       "      <td></td>\n",
       "      <td></td>\n",
       "      <td>Sumerian City-States</td>\n",
       "      <td>Sumerian City-States</td>\n",
       "      <td>#00ff00</td>\n",
       "      <td>-3400</td>\n",
       "      <td>-1761</td>\n",
       "      <td>POLYGON ((46.47702 30.30789, 46.62852 30.30789...</td>\n",
       "    </tr>\n",
       "    <tr>\n",
       "      <th>4</th>\n",
       "      <td>Early Dynastic Period of Egypt</td>\n",
       "      <td>-3000</td>\n",
       "      <td>-2701</td>\n",
       "      <td>92480.979261</td>\n",
       "      <td>POLITY</td>\n",
       "      <td>Early Dynastic Period (Egypt)</td>\n",
       "      <td>eg_dynasty_1</td>\n",
       "      <td></td>\n",
       "      <td></td>\n",
       "      <td>Early Dynastic Period of Egypt</td>\n",
       "      <td>Early Dynastic Period of Egypt</td>\n",
       "      <td>#0080ff</td>\n",
       "      <td>-3000</td>\n",
       "      <td>-2501</td>\n",
       "      <td>POLYGON ((32.90918 30.17935, 32.92628 30.43643...</td>\n",
       "    </tr>\n",
       "  </tbody>\n",
       "</table>\n",
       "</div>"
      ],
      "text/plain": [
       "                             Name  FromYear  ToYear          Area    Type  \\\n",
       "0            Sumerian City-States     -3400   -3201  22083.609657  POLITY   \n",
       "1            Sumerian City-States     -3200   -3001  35508.841506  POLITY   \n",
       "2                            Elam     -3200   -2701   4919.440675  POLITY   \n",
       "3            Sumerian City-States     -3000   -2701  45135.556672  POLITY   \n",
       "4  Early Dynastic Period of Egypt     -3000   -2701  92480.979261  POLITY   \n",
       "\n",
       "                       Wikipedia      SeshatID MemberOf Components  \\\n",
       "0               History of Sumer                                     \n",
       "1               History of Sumer                                     \n",
       "2                           Elam                                     \n",
       "3               History of Sumer                                     \n",
       "4  Early Dynastic Period (Egypt)  eg_dynasty_1                       \n",
       "\n",
       "                      DisplayName                        ColorKey    Color  \\\n",
       "0            Sumerian City-States            Sumerian City-States  #00ff00   \n",
       "1            Sumerian City-States            Sumerian City-States  #00ff00   \n",
       "2                            Elam                            Elam  #ff00ff   \n",
       "3            Sumerian City-States            Sumerian City-States  #00ff00   \n",
       "4  Early Dynastic Period of Egypt  Early Dynastic Period of Egypt  #0080ff   \n",
       "\n",
       "   PolityStartYear  PolityEndYear  \\\n",
       "0            -3400          -1761   \n",
       "1            -3400          -1761   \n",
       "2            -3200           -601   \n",
       "3            -3400          -1761   \n",
       "4            -3000          -2501   \n",
       "\n",
       "                                            geometry  \n",
       "0  POLYGON ((46.58681 31.27192, 46.43482 31.27192...  \n",
       "1  POLYGON ((46.87564 31.14338, 46.55646 31.65753...  \n",
       "2  POLYGON ((48.65172 32.55735, 48.34636 32.55735...  \n",
       "3  POLYGON ((46.47702 30.30789, 46.62852 30.30789...  \n",
       "4  POLYGON ((32.90918 30.17935, 32.92628 30.43643...  "
      ]
     },
     "execution_count": 3,
     "metadata": {},
     "output_type": "execute_result"
    }
   ],
   "source": [
    "# Load the processed Cliopatria data to a GeoDataFrame with geopandas\n",
    "gdf = gpd.read_file(cliopatria_geojson_path)\n",
    "gdf.head()"
   ]
  },
  {
   "cell_type": "markdown",
   "metadata": {},
   "source": [
    "# Play with the data on the map\n",
    "\n",
    "**Notes**\n",
    "- Use minus numbers for BCE.\n",
    "- Click the shapes to reveal the polity display names"
   ]
  },
  {
   "cell_type": "code",
   "execution_count": 4,
   "metadata": {},
   "outputs": [
    {
     "data": {
      "application/vnd.jupyter.widget-view+json": {
       "model_id": "f7bbfc79df6e4e339fba17c8807aa7c7",
       "version_major": 2,
       "version_minor": 0
      },
      "text/plain": [
       "IntText(value=1217, description='Year:')"
      ]
     },
     "metadata": {},
     "output_type": "display_data"
    },
    {
     "data": {
      "application/vnd.jupyter.widget-view+json": {
       "model_id": "d221cab9da354957a17cb484748b2c98",
       "version_major": 2,
       "version_minor": 0
      },
      "text/plain": [
       "IntSlider(value=1217, description='Year:', max=2024, min=-3400)"
      ]
     },
     "metadata": {},
     "output_type": "display_data"
    },
    {
     "data": {
      "application/vnd.jupyter.widget-view+json": {
       "model_id": "c70cd195e91a42a78b820fde45140a6d",
       "version_major": 2,
       "version_minor": 0
      },
      "text/plain": [
       "Output()"
      ]
     },
     "metadata": {},
     "output_type": "display_data"
    }
   ],
   "source": [
    "display_year = 1217\n",
    "display_map(gdf, display_year)"
   ]
  }
 ],
 "metadata": {
  "kernelspec": {
   "display_name": "Python (cliopatria1)",
   "language": "python",
   "name": "cliopatria1"
  },
  "language_info": {
   "codemirror_mode": {
    "name": "ipython",
    "version": 3
   },
   "file_extension": ".py",
   "mimetype": "text/x-python",
   "name": "python",
   "nbconvert_exporter": "python",
   "pygments_lexer": "ipython3",
   "version": "3.11.4"
  }
 },
 "nbformat": 4,
 "nbformat_minor": 4
}
