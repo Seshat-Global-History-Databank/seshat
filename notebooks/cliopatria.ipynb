{
 "cells": [
  {
   "cell_type": "markdown",
   "metadata": {},
   "source": [
    "# Cliopatria viewer\n",
    "\n",
    "1. To get started, download a copy of the Cliopatria dataset from here: `[INSERT LINK]`\n",
    "2. Move the downloaded dataset to an appropriate location on your machine and pass in the paths in the code cell below and run\n",
    "3. Run the subsequent cells of the notebook\n",
    "4. Play around with both the GeoDataFrame (gdf) and the rendered map\n"
   ]
  },
  {
   "cell_type": "code",
   "execution_count": 1,
   "metadata": {},
   "outputs": [],
   "source": [
    "cliopatria_geojson_path = \"../data/cliopatria_07052024/cliopatria_composite_unique_simplified.geojson\""
   ]
  },
  {
   "cell_type": "code",
   "execution_count": 2,
   "metadata": {},
   "outputs": [],
   "source": [
    "from map_functions import cliopatria_gdf, display_map"
   ]
  },
  {
   "cell_type": "code",
   "execution_count": 3,
   "metadata": {},
   "outputs": [
    {
     "data": {
      "text/html": [
       "<div>\n",
       "<style scoped>\n",
       "    .dataframe tbody tr th:only-of-type {\n",
       "        vertical-align: middle;\n",
       "    }\n",
       "\n",
       "    .dataframe tbody tr th {\n",
       "        vertical-align: top;\n",
       "    }\n",
       "\n",
       "    .dataframe thead th {\n",
       "        text-align: right;\n",
       "    }\n",
       "</style>\n",
       "<table border=\"1\" class=\"dataframe\">\n",
       "  <thead>\n",
       "    <tr style=\"text-align: right;\">\n",
       "      <th></th>\n",
       "      <th>Name</th>\n",
       "      <th>FromYear</th>\n",
       "      <th>ToYear</th>\n",
       "      <th>Area</th>\n",
       "      <th>Type</th>\n",
       "      <th>Wikipedia</th>\n",
       "      <th>SeshatID</th>\n",
       "      <th>MemberOf</th>\n",
       "      <th>Components</th>\n",
       "      <th>geometry</th>\n",
       "      <th>DisplayName</th>\n",
       "      <th>ColorKey</th>\n",
       "      <th>Color</th>\n",
       "    </tr>\n",
       "  </thead>\n",
       "  <tbody>\n",
       "    <tr>\n",
       "      <th>0</th>\n",
       "      <td>Sumerian City-States</td>\n",
       "      <td>-3400</td>\n",
       "      <td>-3201</td>\n",
       "      <td>22083.609657</td>\n",
       "      <td>POLITY</td>\n",
       "      <td>History of Sumer</td>\n",
       "      <td></td>\n",
       "      <td></td>\n",
       "      <td></td>\n",
       "      <td>POLYGON ((46.58681 31.27192, 46.43482 31.27192...</td>\n",
       "      <td>Sumerian City-States</td>\n",
       "      <td>Sumerian City-States</td>\n",
       "      <td>#00ff00</td>\n",
       "    </tr>\n",
       "    <tr>\n",
       "      <th>1</th>\n",
       "      <td>Sumerian City-States</td>\n",
       "      <td>-3200</td>\n",
       "      <td>-3001</td>\n",
       "      <td>35508.841506</td>\n",
       "      <td>POLITY</td>\n",
       "      <td>History of Sumer</td>\n",
       "      <td></td>\n",
       "      <td></td>\n",
       "      <td></td>\n",
       "      <td>POLYGON ((46.87564 31.14338, 46.55646 31.65753...</td>\n",
       "      <td>Sumerian City-States</td>\n",
       "      <td>Sumerian City-States</td>\n",
       "      <td>#00ff00</td>\n",
       "    </tr>\n",
       "    <tr>\n",
       "      <th>2</th>\n",
       "      <td>Elam</td>\n",
       "      <td>-3200</td>\n",
       "      <td>-2701</td>\n",
       "      <td>4919.440675</td>\n",
       "      <td>POLITY</td>\n",
       "      <td>Elam</td>\n",
       "      <td></td>\n",
       "      <td></td>\n",
       "      <td></td>\n",
       "      <td>POLYGON ((48.65172 32.55735, 48.34636 32.55735...</td>\n",
       "      <td>Elam</td>\n",
       "      <td>Elam</td>\n",
       "      <td>#ff00ff</td>\n",
       "    </tr>\n",
       "    <tr>\n",
       "      <th>3</th>\n",
       "      <td>Sumerian City-States</td>\n",
       "      <td>-3000</td>\n",
       "      <td>-2701</td>\n",
       "      <td>45135.556672</td>\n",
       "      <td>POLITY</td>\n",
       "      <td>History of Sumer</td>\n",
       "      <td></td>\n",
       "      <td></td>\n",
       "      <td></td>\n",
       "      <td>POLYGON ((46.47702 30.30789, 46.62852 30.30789...</td>\n",
       "      <td>Sumerian City-States</td>\n",
       "      <td>Sumerian City-States</td>\n",
       "      <td>#00ff00</td>\n",
       "    </tr>\n",
       "    <tr>\n",
       "      <th>4</th>\n",
       "      <td>Early Dynastic Period of Egypt</td>\n",
       "      <td>-3000</td>\n",
       "      <td>-2701</td>\n",
       "      <td>92480.979261</td>\n",
       "      <td>POLITY</td>\n",
       "      <td>Early Dynastic Period (Egypt)</td>\n",
       "      <td>eg_dynasty_1</td>\n",
       "      <td></td>\n",
       "      <td></td>\n",
       "      <td>POLYGON ((32.90918 30.17935, 32.92628 30.43643...</td>\n",
       "      <td>Early Dynastic Period of Egypt</td>\n",
       "      <td>Early Dynastic Period of Egypt</td>\n",
       "      <td>#0080ff</td>\n",
       "    </tr>\n",
       "  </tbody>\n",
       "</table>\n",
       "</div>"
      ],
      "text/plain": [
       "                             Name  FromYear  ToYear          Area    Type  \\\n",
       "0            Sumerian City-States     -3400   -3201  22083.609657  POLITY   \n",
       "1            Sumerian City-States     -3200   -3001  35508.841506  POLITY   \n",
       "2                            Elam     -3200   -2701   4919.440675  POLITY   \n",
       "3            Sumerian City-States     -3000   -2701  45135.556672  POLITY   \n",
       "4  Early Dynastic Period of Egypt     -3000   -2701  92480.979261  POLITY   \n",
       "\n",
       "                       Wikipedia      SeshatID MemberOf Components  \\\n",
       "0               History of Sumer                                     \n",
       "1               History of Sumer                                     \n",
       "2                           Elam                                     \n",
       "3               History of Sumer                                     \n",
       "4  Early Dynastic Period (Egypt)  eg_dynasty_1                       \n",
       "\n",
       "                                            geometry  \\\n",
       "0  POLYGON ((46.58681 31.27192, 46.43482 31.27192...   \n",
       "1  POLYGON ((46.87564 31.14338, 46.55646 31.65753...   \n",
       "2  POLYGON ((48.65172 32.55735, 48.34636 32.55735...   \n",
       "3  POLYGON ((46.47702 30.30789, 46.62852 30.30789...   \n",
       "4  POLYGON ((32.90918 30.17935, 32.92628 30.43643...   \n",
       "\n",
       "                      DisplayName                        ColorKey    Color  \n",
       "0            Sumerian City-States            Sumerian City-States  #00ff00  \n",
       "1            Sumerian City-States            Sumerian City-States  #00ff00  \n",
       "2                            Elam                            Elam  #ff00ff  \n",
       "3            Sumerian City-States            Sumerian City-States  #00ff00  \n",
       "4  Early Dynastic Period of Egypt  Early Dynastic Period of Egypt  #0080ff  "
      ]
     },
     "execution_count": 3,
     "metadata": {},
     "output_type": "execute_result"
    }
   ],
   "source": [
    "# Load the Cliopatria data to a GeoDataFrame including end years for each shape\n",
    "gdf = cliopatria_gdf(cliopatria_geojson_path)\n",
    "gdf.head()"
   ]
  },
  {
   "cell_type": "markdown",
   "metadata": {},
   "source": [
    "# Play with the data on the map\n",
    "\n",
    "**Notes**\n",
    "- The slider is a bit buggy, the best way to change year is to enter a year in the box and hit enter. Use minus numbers for BCE.\n",
    "- The map is also displayed thrice for some reason!\n",
    "- Initial attempts to implement a play button similar to the website code failed, but that may not be needed here.\n",
    "- Click the shapes to reveal the polity display names, using the same logic used in the website code - see `map_functions.py`"
   ]
  },
  {
   "cell_type": "code",
   "execution_count": 6,
   "metadata": {},
   "outputs": [
    {
     "data": {
      "application/vnd.jupyter.widget-view+json": {
       "model_id": "845572f9c44d490dbac0f57c75c9e56a",
       "version_major": 2,
       "version_minor": 0
      },
      "text/plain": [
       "IntText(value=0, description='Year:')"
      ]
     },
     "metadata": {},
     "output_type": "display_data"
    },
    {
     "data": {
      "application/vnd.jupyter.widget-view+json": {
       "model_id": "614cd3535904405296ee77dd66efd98e",
       "version_major": 2,
       "version_minor": 0
      },
      "text/plain": [
       "IntSlider(value=0, description='Year:', max=2024, min=-3400)"
      ]
     },
     "metadata": {},
     "output_type": "display_data"
    },
    {
     "data": {
      "application/vnd.jupyter.widget-view+json": {
       "model_id": "cf9bed97293e44c78d002fe7bc90ed4b",
       "version_major": 2,
       "version_minor": 0
      },
      "text/plain": [
       "Output()"
      ]
     },
     "metadata": {},
     "output_type": "display_data"
    }
   ],
   "source": [
    "display_year = 0\n",
    "display_map(gdf, display_year)"
   ]
  }
 ],
 "metadata": {
  "kernelspec": {
   "display_name": "Python (cliopatria1)",
   "language": "python",
   "name": "cliopatria1"
  },
  "language_info": {
   "codemirror_mode": {
    "name": "ipython",
    "version": 3
   },
   "file_extension": ".py",
   "mimetype": "text/x-python",
   "name": "python",
   "nbconvert_exporter": "python",
   "pygments_lexer": "ipython3",
   "version": "3.11.4"
  }
 },
 "nbformat": 4,
 "nbformat_minor": 4
}
